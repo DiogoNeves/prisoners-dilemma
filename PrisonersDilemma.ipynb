{
 "cells": [
  {
   "cell_type": "markdown",
   "id": "336afcb3",
   "metadata": {},
   "source": [
    "# Simulating Prisoner's Dilemma\n",
    "\n",
    "In this game we're simulating the interactions between different strategies in\n",
    "the Prisoner's Dilemma.  \n",
    "Each strategy is a function that takes the history of the opposing strategy and\n",
    "own history and returns a decision (cooperate or defect).\n",
    "\n",
    "The game makes no assumptions about the internals or state of the strategies.\n",
    "They may keep state over multiple turns or be completely stateless.  \n",
    "For simplicity, it is recommended to depend entirely on the values passed in\n",
    "each turn.  \n",
    "\n",
    "Strategies that depend on external information, to this game, would be\n",
    "considered cheaters.  \n",
    "\n",
    "Strategies can see each other's scores as we want to allow behaviour that\n",
    "minimises other strategies score, as opposed to maximising self."
   ]
  },
  {
   "cell_type": "markdown",
   "id": "1c853396",
   "metadata": {},
   "source": [
    "### Setup"
   ]
  },
  {
   "cell_type": "code",
   "execution_count": 60,
   "id": "2bfe1c0b",
   "metadata": {},
   "outputs": [],
   "source": [
    "from typing import Callable, Any, Iterable\n",
    "from collections import defaultdict"
   ]
  },
  {
   "cell_type": "markdown",
   "id": "af31942e",
   "metadata": {},
   "source": [
    "## The Game Loop\n",
    "\n",
    "The game loop is stable and shouldn't change.  \n",
    "We may implement different games in the future. One example would be to simulate\n",
    "a NxN game, where multiple strategies go against multiple strategies."
   ]
  },
  {
   "cell_type": "code",
   "execution_count": 36,
   "id": "2eea97a1",
   "metadata": {},
   "outputs": [],
   "source": [
    "Move = str\n",
    "Score = int\n",
    "Turn = tuple[Move, Score]\n",
    "History = list[Turn]\n",
    "Strategy = Callable[[History, History], Move]\n",
    "\n",
    "ScoreFunc = Callable[[Move, Move], tuple[Score, Score]]"
   ]
  },
  {
   "cell_type": "code",
   "execution_count": 37,
   "id": "8cb9e3ed-864e-4c33-9167-1893ae699ab5",
   "metadata": {},
   "outputs": [],
   "source": [
    "def simulate_game(strategy1: Strategy, strategy2: Strategy,\n",
    "                  update_scores: ScoreFunc, num_turns: int\n",
    ") -> tuple[Score, Score]:\n",
    "    \"\"\"Simulate a prisoner's dilemma game and return the total scores for\n",
    "    both players.\n",
    "    Each strategy takes the history of the opposing player and self history and\n",
    "    returns the next move.\n",
    "    \n",
    "    The game returns the total scores for both players.\"\"\"\n",
    "    history1, history2 = [], []\n",
    "    total_score1, total_score2 = 0, 0\n",
    "\n",
    "    for _ in range(num_turns):\n",
    "        move1 = strategy1(history2, history1)\n",
    "        move2 = strategy2(history1, history2)\n",
    "\n",
    "        score1, score2 = update_scores(move1, move2)\n",
    "        total_score1 += score1\n",
    "        total_score2 += score2\n",
    "\n",
    "        history1.append((move1, score1))\n",
    "        history2.append((move2, score2))\n",
    "    \n",
    "    return total_score1, total_score2"
   ]
  },
  {
   "cell_type": "code",
   "execution_count": 16,
   "id": "d460dbfc",
   "metadata": {},
   "outputs": [],
   "source": [
    "COOPERATE = \"C\"\n",
    "DEFECT = \"D\""
   ]
  },
  {
   "cell_type": "markdown",
   "id": "f0d5bad8",
   "metadata": {},
   "source": [
    "### The Rules\n",
    "\n",
    "Let's define our scoring functions."
   ]
  },
  {
   "cell_type": "code",
   "execution_count": 19,
   "id": "dc75ce21",
   "metadata": {},
   "outputs": [],
   "source": [
    "ScoreMatrix = dict[tuple[Move, Move], tuple[Score, Score]]"
   ]
  },
  {
   "cell_type": "code",
   "execution_count": 20,
   "id": "0765ca77",
   "metadata": {},
   "outputs": [],
   "source": [
    "def create_score_func_from_matrix(score_matrix: ScoreMatrix) -> ScoreFunc:\n",
    "    \n",
    "    def update_scores(move1, move2) -> tuple[Score, Score]:\n",
    "        return score_matrix[(move1, move2)]\n",
    "    \n",
    "    return update_scores"
   ]
  },
  {
   "cell_type": "code",
   "execution_count": 22,
   "id": "d636280f",
   "metadata": {},
   "outputs": [],
   "source": [
    "classic_score_matrix: ScoreMatrix = {\n",
    "    (COOPERATE, COOPERATE): (3, 3),\n",
    "    (COOPERATE, DEFECT): (0, 5),\n",
    "    (DEFECT, COOPERATE): (5, 0),\n",
    "    (DEFECT, DEFECT): (1, 1)\n",
    "}\n",
    "update_classic_scores = create_score_func_from_matrix(classic_score_matrix)"
   ]
  },
  {
   "cell_type": "code",
   "execution_count": 23,
   "id": "f6e7f7ac",
   "metadata": {},
   "outputs": [
    {
     "data": {
      "text/plain": [
       "(3, 3)"
      ]
     },
     "execution_count": 23,
     "metadata": {},
     "output_type": "execute_result"
    }
   ],
   "source": [
    "# Let's test it\n",
    "update_classic_scores(COOPERATE, COOPERATE)"
   ]
  },
  {
   "cell_type": "markdown",
   "id": "172d1ddc",
   "metadata": {},
   "source": [
    "## Let's Play\n",
    "\n",
    "Let's define some strategies and run the game"
   ]
  },
  {
   "cell_type": "markdown",
   "id": "34d171ea",
   "metadata": {},
   "source": [
    "### Strategy Library"
   ]
  },
  {
   "cell_type": "markdown",
   "id": "732bf42c",
   "metadata": {},
   "source": [
    "#### Optimist\n",
    "Simple strategy, always cooperates."
   ]
  },
  {
   "cell_type": "code",
   "execution_count": 40,
   "id": "4789f953",
   "metadata": {},
   "outputs": [],
   "source": [
    "def optimist(_opposing: History, _own: History) -> Move:\n",
    "    return COOPERATE"
   ]
  },
  {
   "cell_type": "markdown",
   "id": "5b96cd40",
   "metadata": {},
   "source": [
    "#### Criminal\n",
    "Always defects"
   ]
  },
  {
   "cell_type": "code",
   "execution_count": 41,
   "id": "01aa2d3e",
   "metadata": {},
   "outputs": [],
   "source": [
    "def criminal(_opposing: History, _own) -> Move:\n",
    "    return DEFECT"
   ]
  },
  {
   "cell_type": "markdown",
   "id": "187706f4",
   "metadata": {},
   "source": [
    "#### Tit for Tat\n",
    "This strategy starts optimistic and then repeats what the opposing strategy's previous turn from then on."
   ]
  },
  {
   "cell_type": "code",
   "execution_count": 42,
   "id": "3dc0a2d9",
   "metadata": {},
   "outputs": [],
   "source": [
    "def tit_for_tat(opposing: History, _own: History) -> Move:\n",
    "    if not opposing:\n",
    "        return COOPERATE\n",
    "    \n",
    "    previous_move, _ = opposing[-1]\n",
    "    return previous_move"
   ]
  },
  {
   "cell_type": "markdown",
   "id": "3ef9a04b",
   "metadata": {},
   "source": [
    "### Games\n",
    "\n",
    "TODO:\n",
    "- Change the code to take a list of strategies to evaluate and render the leaderboard comparing each strategy"
   ]
  },
  {
   "cell_type": "code",
   "execution_count": 43,
   "id": "2df5899f",
   "metadata": {},
   "outputs": [
    {
     "data": {
      "text/plain": [
       "(200, 200)"
      ]
     },
     "execution_count": 43,
     "metadata": {},
     "output_type": "execute_result"
    }
   ],
   "source": [
    "# Let's test the simulation works\n",
    "simulate_game(criminal, criminal, update_classic_scores, 200)"
   ]
  },
  {
   "cell_type": "code",
   "execution_count": 48,
   "id": "3676174e",
   "metadata": {},
   "outputs": [
    {
     "data": {
      "text/plain": [
       "(104, 99)"
      ]
     },
     "execution_count": 48,
     "metadata": {},
     "output_type": "execute_result"
    }
   ],
   "source": [
    "simulate_game(criminal, tit_for_tat, update_classic_scores, 100)"
   ]
  },
  {
   "cell_type": "markdown",
   "id": "62b2016b",
   "metadata": {},
   "source": [
    "## Evaluating Strategies\n",
    "\n",
    "Let's evaluate the different strategies available.  \n",
    "We do so by looking at a few metrics:  \n",
    "* Total score across all games  \n",
    "* Best game score  \n",
    "* Worst game score  \n",
    "* Number of wins  \n",
    "* Number of ties  \n",
    "\n",
    "To calculate these metrics we run the combination of all strategies, \n",
    "including playing against self.  \n",
    "We end up with a results matrix representing the scores between strategy A and B\n",
    "where the diagonal represents playing against self.\n",
    "\n",
    "We then plot the results of processing this matrix into the various metrics."
   ]
  },
  {
   "cell_type": "code",
   "execution_count": 44,
   "id": "848d5403",
   "metadata": {},
   "outputs": [],
   "source": [
    "strategies_to_compare = [\n",
    "    optimist, criminal, tit_for_tat\n",
    "]"
   ]
  },
  {
   "cell_type": "code",
   "execution_count": 51,
   "id": "e20169a4",
   "metadata": {},
   "outputs": [],
   "source": [
    "# TODO: Replace this with the python combinatorial function\n",
    "def combinations(items: list[Any]) -> Iterable[tuple[Any, Any]]:\n",
    "    for i in items:\n",
    "        for j in items:\n",
    "            yield (i, j)"
   ]
  },
  {
   "cell_type": "code",
   "execution_count": 59,
   "id": "b0f1306a",
   "metadata": {},
   "outputs": [
    {
     "data": {
      "text/plain": [
       "{('optimist', 'optimist'): (600, 600),\n",
       " ('optimist', 'criminal'): (0, 1000),\n",
       " ('optimist', 'tit_for_tat'): (600, 600),\n",
       " ('criminal', 'optimist'): (1000, 0),\n",
       " ('criminal', 'criminal'): (200, 200),\n",
       " ('criminal', 'tit_for_tat'): (204, 199),\n",
       " ('tit_for_tat', 'optimist'): (600, 600),\n",
       " ('tit_for_tat', 'criminal'): (199, 204),\n",
       " ('tit_for_tat', 'tit_for_tat'): (600, 600)}"
      ]
     },
     "execution_count": 59,
     "metadata": {},
     "output_type": "execute_result"
    }
   ],
   "source": [
    "NUM_TURNS = 200\n",
    "\n",
    "def to_key(strategy1: Strategy, strategy2: Strategy) -> tuple[str, str]:\n",
    "    return (strategy1.__name__, strategy2.__name__)\n",
    "\n",
    "def simulate_classic_game(\n",
    "    strategy1: Strategy, strategy2: Strategy\n",
    ") -> tuple[Score, Score]:\n",
    "    \"\"\"Curries simulate_game to use classic scores\"\"\"\n",
    "    return simulate_game(strategy1, strategy2, update_classic_scores, NUM_TURNS)\n",
    "\n",
    "results = {to_key(strategy1, strategy2): simulate_classic_game(strategy1, strategy2)\n",
    "           for strategy1, strategy2 in combinations(strategies_to_compare)}\n",
    "results"
   ]
  },
  {
   "cell_type": "code",
   "execution_count": 65,
   "id": "857ea1ac",
   "metadata": {},
   "outputs": [
    {
     "data": {
      "text/plain": [
       "({'optimist': 2400, 'criminal': 2808, 'tit_for_tat': 2798},\n",
       " {'optimist': 600, 'criminal': 1000, 'tit_for_tat': 600},\n",
       " {'criminal': 4},\n",
       " {'optimist': 4, 'tit_for_tat': 4, 'criminal': 2})"
      ]
     },
     "execution_count": 65,
     "metadata": {},
     "output_type": "execute_result"
    }
   ],
   "source": [
    "totals = defaultdict(int)\n",
    "best = defaultdict(int)\n",
    "wins = defaultdict(int)\n",
    "ties = defaultdict(int)\n",
    "\n",
    "# TODO: Improve with a flatter results list\n",
    "for (strategy1, strategy2), (score1, score2) in results.items():\n",
    "    totals[strategy1] += score1\n",
    "    totals[strategy2] += score2\n",
    "\n",
    "    best[strategy1] = max(best[strategy1], score1)\n",
    "    best[strategy2] = max(best[strategy2], score2)\n",
    "\n",
    "    if score1 > score2:\n",
    "        wins[strategy1] += 1\n",
    "    elif score1 == score2:\n",
    "        ties[strategy1] += 1\n",
    "        ties[strategy2] += 1\n",
    "    else:\n",
    "        wins[strategy2] += 1\n",
    "\n",
    "dict(totals), dict(best), dict(wins), dict(ties)"
   ]
  },
  {
   "cell_type": "code",
   "execution_count": null,
   "id": "56595eea",
   "metadata": {},
   "outputs": [],
   "source": []
  }
 ],
 "metadata": {
  "kernelspec": {
   "display_name": "Python 3 (ipykernel)",
   "language": "python",
   "name": "python3"
  },
  "language_info": {
   "codemirror_mode": {
    "name": "ipython",
    "version": 3
   },
   "file_extension": ".py",
   "mimetype": "text/x-python",
   "name": "python",
   "nbconvert_exporter": "python",
   "pygments_lexer": "ipython3",
   "version": "3.10.11"
  }
 },
 "nbformat": 4,
 "nbformat_minor": 5
}
